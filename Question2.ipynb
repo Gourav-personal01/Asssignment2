{
 "cells": [
  {
   "cell_type": "code",
   "execution_count": 1,
   "id": "51ac19f1-001f-46bd-9cc2-c8d959f2ae10",
   "metadata": {},
   "outputs": [],
   "source": [
    "# Variables are like a container where you can store your values by assigning it\n",
    "#Example-\n",
    "# In this below case the a is the variable and 45 is assigned value \n",
    "a = 45"
   ]
  },
  {
   "cell_type": "code",
   "execution_count": null,
   "id": "3860dc31-84ef-43ee-a916-57ed81c140df",
   "metadata": {},
   "outputs": [],
   "source": []
  }
 ],
 "metadata": {
  "kernelspec": {
   "display_name": "Python 3 (ipykernel)",
   "language": "python",
   "name": "python3"
  },
  "language_info": {
   "codemirror_mode": {
    "name": "ipython",
    "version": 3
   },
   "file_extension": ".py",
   "mimetype": "text/x-python",
   "name": "python",
   "nbconvert_exporter": "python",
   "pygments_lexer": "ipython3",
   "version": "3.10.8"
  }
 },
 "nbformat": 4,
 "nbformat_minor": 5
}
