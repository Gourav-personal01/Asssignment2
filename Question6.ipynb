{
 "cells": [
  {
   "cell_type": "code",
   "execution_count": 1,
   "id": "e6c5440a-9075-4310-a041-1c02a5cd4a4a",
   "metadata": {},
   "outputs": [
    {
     "name": "stdout",
     "output_type": "stream",
     "text": [
      "(5+4j)\n"
     ]
    }
   ],
   "source": [
    "# Complex Number is the combination of real and imaginary \n",
    "\n",
    "# Example - \n",
    "# In the below case 5 is the Real Number and 4 is the imaginary Number. \n",
    "a = 5 + 4j\n",
    "print(a)"
   ]
  },
  {
   "cell_type": "code",
   "execution_count": null,
   "id": "7aca0fef-cd07-4d66-bcc1-e4e5bfcb6d32",
   "metadata": {},
   "outputs": [],
   "source": []
  }
 ],
 "metadata": {
  "kernelspec": {
   "display_name": "Python 3 (ipykernel)",
   "language": "python",
   "name": "python3"
  },
  "language_info": {
   "codemirror_mode": {
    "name": "ipython",
    "version": 3
   },
   "file_extension": ".py",
   "mimetype": "text/x-python",
   "name": "python",
   "nbconvert_exporter": "python",
   "pygments_lexer": "ipython3",
   "version": "3.10.8"
  }
 },
 "nbformat": 4,
 "nbformat_minor": 5
}
