{
 "cells": [
  {
   "cell_type": "code",
   "execution_count": null,
   "id": "a88c599e-4986-456f-bda9-b08b2fea86e1",
   "metadata": {},
   "outputs": [],
   "source": [
    "# We can run the python script from the command line with following commants lines\n",
    "\n",
    "# 1. py -m <name of the file>\n",
    "# 2. python3 -m <name of the file>\n",
    "# 3. python -m <name of the file>"
   ]
  }
 ],
 "metadata": {
  "kernelspec": {
   "display_name": "Python 3 (ipykernel)",
   "language": "python",
   "name": "python3"
  },
  "language_info": {
   "codemirror_mode": {
    "name": "ipython",
    "version": 3
   },
   "file_extension": ".py",
   "mimetype": "text/x-python",
   "name": "python",
   "nbconvert_exporter": "python",
   "pygments_lexer": "ipython3",
   "version": "3.10.8"
  }
 },
 "nbformat": 4,
 "nbformat_minor": 5
}
