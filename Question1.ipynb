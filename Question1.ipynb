{
 "cells": [
  {
   "cell_type": "code",
   "execution_count": 1,
   "id": "abbe7e45-c410-4c98-83a5-764e1d449163",
   "metadata": {},
   "outputs": [],
   "source": [
    "#The Comments are those which is not a code but it will highlight your thoughts before the next line\n",
    "#Example - \n",
    "# a is equal to 45\n",
    "a = 45\n",
    "\n",
    "#There are 2 types of Comments - \n",
    "# 1. Sigle line comment\n",
    "# 2 Multi line comments "
   ]
  },
  {
   "cell_type": "code",
   "execution_count": null,
   "id": "9488ae52-2a35-41a3-b3af-976048a91b3b",
   "metadata": {},
   "outputs": [],
   "source": []
  }
 ],
 "metadata": {
  "kernelspec": {
   "display_name": "Python 3 (ipykernel)",
   "language": "python",
   "name": "python3"
  },
  "language_info": {
   "codemirror_mode": {
    "name": "ipython",
    "version": 3
   },
   "file_extension": ".py",
   "mimetype": "text/x-python",
   "name": "python",
   "nbconvert_exporter": "python",
   "pygments_lexer": "ipython3",
   "version": "3.10.8"
  }
 },
 "nbformat": 4,
 "nbformat_minor": 5
}
